{
 "cells": [
  {
   "cell_type": "code",
   "execution_count": 7,
   "metadata": {
    "collapsed": true
   },
   "outputs": [],
   "source": [
    "import numpy as np\n",
    "import random\n",
    "import datetime\n",
    "import os\n",
    "os.chdir('F:/DataMining/ml-100k')\n",
    "\n",
    "\n",
    "def fill_RatingMatrix(file_path):\n",
    "    file = open(file_path, 'r')\n",
    "    data_set = file.read()\n",
    "    file.close()\n",
    "    \n",
    "    data_set = data_set.split('\\n')\n",
    "    data_set = data_set[0: len(data_set) - 1]\n",
    "    R = np.zeros((943, 1682))\n",
    "    \n",
    "    for i in range(len(data_set)):\n",
    "        row = data_set[i].split('\\t')\n",
    "        R[int(row[0]) - 1][int(row[1]) - 1] = int(row[2])\n",
    "        \n",
    "    return R"
   ]
  },
  {
   "cell_type": "code",
   "execution_count": 8,
   "metadata": {
    "collapsed": true
   },
   "outputs": [],
   "source": [
    "def matrix_factorization(training_set, test_set, iteration_time=10000, alpha=0.045, LAMBDA=0.02):\n",
    "    K = 5\n",
    "    P = np.random.rand(943, K)\n",
    "    Q = np.random.rand(1682, K)\n",
    "    Q = Q.T\n",
    "    \n",
    "    loss_list = []\n",
    "    \n",
    "    for time in range(iteration_time):\n",
    "        while True:\n",
    "            u = random.randint(0, 942)\n",
    "            i = random.randint(0, 1681)\n",
    "            if ((training_set[u][i] > 0)):\n",
    "                break\n",
    "            \n",
    "        Eu_i = training_set[u][i] - P[u].dot(Q[:, i])\n",
    "        gradient_P = 2 * Eu_i * (-Q[:, i]) + 2 * LAMBDA * P[u]\n",
    "        gradient_Q = 2 * Eu_i * (-P[u]) + 2 * LAMBDA * Q[:, i]\n",
    "        \n",
    "        P[u] = P[u] - alpha * gradient_P\n",
    "        Q[:, i] = Q[:, i] - alpha * gradient_Q\n",
    "        \n",
    "        if (time % 250 == 0):\n",
    "            loss = 0\n",
    "            for u in range(943):\n",
    "                for i in range(1682):\n",
    "                    if (test_set[u][i] > 0):\n",
    "                        loss += (test_set[u][i] - P[u].dot(Q[:, i])) ** 2\n",
    "                \n",
    "                        for k in range(K):\n",
    "                            loss += LAMBDA * (P[u][k] ** 2 + Q[k][i] ** 2)\n",
    "        \n",
    "            loss_list.append(loss)\n",
    "        \n",
    "    return P, Q, loss_list"
   ]
  },
  {
   "cell_type": "code",
   "execution_count": 9,
   "metadata": {},
   "outputs": [
    {
     "name": "stdout",
     "output_type": "stream",
     "text": [
      "the loss list:  [138363.81004059181, 119575.66851202147, 104294.75156372662, 91100.697398113654, 81877.527609040277, 74592.343393670511, 68136.113249547241, 63199.746181721996, 59289.908906006007, 56281.378532653871, 53871.167436402779, 51373.645410525736, 49775.761730106693, 47150.468195634872, 45261.696048022772, 44392.148113686068, 43443.144307119284, 42983.059088124377, 42324.859913187247, 41325.452727114149, 40367.919652843615, 39712.770783005879, 39012.87629427042, 37991.864444821251, 38107.538660485727, 37998.611513169591, 37523.639595433313, 37074.255286457235, 37427.246719220922, 37668.464020161657, 36823.11191189204, 35813.062474641687, 35471.540103546598, 35314.113481073793, 35194.5646638443, 34968.718152251706, 34795.242491879661, 34781.241232765133, 34355.05196207235, 34628.592216951532]\n",
      "\n",
      "\n",
      "P * Q:  [[ 4.50255144  3.15298726  3.99221213 ...,  2.17341748  2.17506504\n",
      "   1.44585803]\n",
      " [ 3.70595764  2.76062354  3.54540502 ...,  2.12977851  2.04399251\n",
      "   1.23905224]\n",
      " [ 3.42351494  2.82672776  3.45735305 ...,  2.19336269  2.67323557\n",
      "   1.49205045]\n",
      " ..., \n",
      " [ 4.70169257  3.10064197  4.0867883  ...,  1.8876774   1.95697137\n",
      "   1.40159761]\n",
      " [ 5.21509519  3.95131666  4.99755883 ...,  2.89823381  3.15123397\n",
      "   1.71445597]\n",
      " [ 3.37872461  2.45538735  2.98998687 ...,  1.79329956  2.02754755\n",
      "   1.84335251]]\n"
     ]
    },
    {
     "data": {
      "image/png": "[encoded data removed]",
      "text/plain": [
       "<matplotlib.figure.Figure at 0xb876a58>"
      ]
     },
     "metadata": {},
     "output_type": "display_data"
    }
   ],
   "source": [
    "training_set = fill_RatingMatrix('u1.base')\n",
    "test_set = fill_RatingMatrix('u1.test')\n",
    "\n",
    "P_, Q_, loss_list = matrix_factorization(training_set, test_set)\n",
    "print(\"the loss list: \", loss_list)\n",
    "print(\"\\n\")\n",
    "R_ = P_.dot(Q_)\n",
    "print(\"P * Q: \", R_)\n",
    "\n",
    "import matplotlib.pyplot as plt\n",
    "\n",
    "plt.xlabel('iteration time')\n",
    "plt.ylabel('loss')\n",
    "\n",
    "x = range(0, 10000, 250)\n",
    "plt.plot(x, loss_list, 'b-', label = 'validation')\n",
    "\n",
    "plt.grid(True)\n",
    "plt.legend()\n",
    "plt.show() "
   ]
  }
 ],
 "metadata": {
  "kernelspec": {
   "display_name": "Python 3",
   "language": "python",
   "name": "python3"
  },
  "language_info": {
   "codemirror_mode": {
    "name": "ipython",
    "version": 3
   },
   "file_extension": ".py",
   "mimetype": "text/x-python",
   "name": "python",
   "nbconvert_exporter": "python",
   "pygments_lexer": "ipython3",
   "version": "3.6.1"
  }
 },
 "nbformat": 4,
 "nbformat_minor": 2
}
